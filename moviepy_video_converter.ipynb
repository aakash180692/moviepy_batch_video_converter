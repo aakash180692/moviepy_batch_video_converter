{
 "cells": [
  {
   "cell_type": "code",
   "execution_count": 33,
   "metadata": {},
   "outputs": [],
   "source": [
    "# initialize libraries\n",
    "from os import listdir\n",
    "from moviepy.editor import *\n",
    "import re"
   ]
  },
  {
   "cell_type": "code",
   "execution_count": 45,
   "metadata": {},
   "outputs": [
    {
     "name": "stdout",
     "output_type": "stream",
     "text": [
      "E:/Downloads/Video\n",
      "E:/Downloads/converted_video\n",
      "52\n",
      "Episode 1 - The Journey - Introduction to Upanishads.ogv\n"
     ]
    }
   ],
   "source": [
    "# location of folder containing source videos. Keep in mind to replace \\ with / in address path\n",
    "source_folder = r\"E:/Downloads/Video\"\n",
    "print(source_folder)\n",
    "\n",
    "destination_folder = r\"E:/Downloads/converted_video\"\n",
    "print(destination_folder)\n",
    "\n",
    "# extension for source file type  and output file type\n",
    "source_file_type = \".ogv\"\n",
    "out_file_type = \".mp4\"\n",
    "\n",
    "# list of files to convert with given exensionat source folder\n",
    "src_file_list = [i for i in listdir(source_folder) if source_file_type in i]\n",
    "\n",
    "print(len(src_file_list))\n",
    "print(src_file_list[0])"
   ]
  },
  {
   "cell_type": "code",
   "execution_count": 48,
   "metadata": {},
   "outputs": [],
   "source": [
    "# function that creates an output file name, modified for current use case only\n",
    "def output_file_name(file_src,source_file_type,out_file_type):\n",
    "#     print(file_src)\n",
    "    ep_num = int(re.findall(r'\\d+', file_src)[0])\n",
    "    if ep_num < 10:\n",
    "        ep_num_str = \"0\" + str(ep_num)\n",
    "    else:\n",
    "        ep_num_str = str(ep_num)\n",
    "    \n",
    "    if \"-\" in file_src:\n",
    "        ep_title = file_src.split(\"-\",1)[1].strip()[:-len(source_file_type)]\n",
    "    else:\n",
    "        ep_title = file_src[11:].strip()[:-len(source_file_type)]\n",
    "    \n",
    "    ep_title2 = ep_title.replace(\"-\",\" \").replace(\"  \",\" \").replace(\"  \",\" \").replace(\" \",\"_\")\n",
    "    \n",
    "    out_path = \"Episode_\" + ep_num_str + \"_\" + ep_title2 + out_file_type\n",
    "    \n",
    "    return(out_path)\n"
   ]
  },
  {
   "cell_type": "code",
   "execution_count": null,
   "metadata": {},
   "outputs": [
    {
     "name": "stdout",
     "output_type": "stream",
     "text": [
      "E:/Downloads/Video/Episode 1 - The Journey - Introduction to Upanishads.ogv\n",
      "E:/Downloads/converted_video/Episode_01_The_Journey_Introduction_to_Upanishads.mp4\n",
      "[MoviePy] >>>> Building video E:/Downloads/converted_video/Episode_01_The_Journey_Introduction_to_Upanishads.mp4\n",
      "[MoviePy] Writing audio in Episode_01_The_Journey_Introduction_to_UpanishadsTEMP_MPY_wvf_snd.mp3\n"
     ]
    },
    {
     "name": "stderr",
     "output_type": "stream",
     "text": [
      "100%|███████████████████████████████████████████████████████████████████████████| 33784/33784 [01:16<00:00, 440.23it/s]\n"
     ]
    },
    {
     "name": "stdout",
     "output_type": "stream",
     "text": [
      "[MoviePy] Done.\n",
      "[MoviePy] Writing video E:/Downloads/converted_video/Episode_01_The_Journey_Introduction_to_Upanishads.mp4\n"
     ]
    },
    {
     "name": "stderr",
     "output_type": "stream",
     "text": [
      " 25%|███████████████████                                                         | 9600/38304 [01:27<04:21, 109.82it/s]"
     ]
    }
   ],
   "source": [
    "# conversion loop\n",
    "\n",
    "for file_src in src_file_list:\n",
    "    src_path = source_folder + '/' + file_src\n",
    "    print(src_path)\n",
    "    \n",
    "    # creating path for output file\n",
    "    out_path = destination_folder + '/' + output_file_name(file_src,source_file_type,out_file_type)\n",
    "    print(out_path)\n",
    "    \n",
    "    clip = VideoFileClip(src_path)\n",
    "    clip.write_videofile(out_path,fps=int(clip.fps))\n",
    "    "
   ]
  },
  {
   "cell_type": "code",
   "execution_count": null,
   "metadata": {},
   "outputs": [],
   "source": []
  },
  {
   "cell_type": "code",
   "execution_count": null,
   "metadata": {},
   "outputs": [],
   "source": []
  },
  {
   "cell_type": "code",
   "execution_count": null,
   "metadata": {},
   "outputs": [],
   "source": []
  }
 ],
 "metadata": {
  "kernelspec": {
   "display_name": "Python 3",
   "language": "python",
   "name": "python3"
  },
  "language_info": {
   "codemirror_mode": {
    "name": "ipython",
    "version": 3
   },
   "file_extension": ".py",
   "mimetype": "text/x-python",
   "name": "python",
   "nbconvert_exporter": "python",
   "pygments_lexer": "ipython3",
   "version": "3.6.6"
  }
 },
 "nbformat": 4,
 "nbformat_minor": 2
}
